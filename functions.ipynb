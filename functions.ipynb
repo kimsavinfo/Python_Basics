{
 "cells": [
  {
   "cell_type": "code",
   "execution_count": 1,
   "id": "ba934ab1-e047-4125-86fa-15615f0c0064",
   "metadata": {},
   "outputs": [
    {
     "name": "stdout",
     "output_type": "stream",
     "text": [
      "False\n",
      "True\n"
     ]
    }
   ],
   "source": [
    "def checkIfPrime (numberToCheck):\n",
    "    for x in range(2, numberToCheck):\n",
    "        if (numberToCheck%x == 0):\n",
    "            return False\n",
    "    return True\n",
    "\n",
    "print(checkIfPrime(6))\n",
    "print(checkIfPrime(13))"
   ]
  },
  {
   "cell_type": "code",
   "execution_count": null,
   "id": "880854b0-ef0d-4105-b78c-442aa52d91ac",
   "metadata": {},
   "outputs": [],
   "source": []
  }
 ],
 "metadata": {
  "kernelspec": {
   "display_name": "Python 3 (ipykernel)",
   "language": "python",
   "name": "python3"
  },
  "language_info": {
   "codemirror_mode": {
    "name": "ipython",
    "version": 3
   },
   "file_extension": ".py",
   "mimetype": "text/x-python",
   "name": "python",
   "nbconvert_exporter": "python",
   "pygments_lexer": "ipython3",
   "version": "3.9.4"
  }
 },
 "nbformat": 4,
 "nbformat_minor": 5
}
