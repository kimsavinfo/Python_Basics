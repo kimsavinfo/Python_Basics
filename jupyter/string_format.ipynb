{
 "cells": [
  {
   "cell_type": "code",
   "execution_count": 1,
   "id": "74808b26-b22b-477a-94ac-918cb074156d",
   "metadata": {},
   "outputs": [
    {
     "name": "stdout",
     "output_type": "stream",
     "text": [
      "The price of this Apple laptop is 1299 USD and the exchange rate is 1.24 USD to 1 EUR\n"
     ]
    }
   ],
   "source": [
    "brand = 'Apple'\n",
    "exchangeRate = 1.235235245\n",
    "\n",
    "message = 'The price of this %s laptop is %d USD and the exchange rate is %4.2f USD to 1 EUR' %(brand, 1299, exchangeRate)\n",
    "\n",
    "print (message)"
   ]
  },
  {
   "cell_type": "code",
   "execution_count": 3,
   "id": "62d7e5ae-56df-411f-af04-a5fb579bb268",
   "metadata": {},
   "outputs": [
    {
     "name": "stdout",
     "output_type": "stream",
     "text": [
      "[21, 22, 3, 24, 25]\n"
     ]
    }
   ],
   "source": [
    "userAge = [1, 2, 3, 4, 5]\n",
    "userAge[0] = 21\n",
    "userAge[1] = 22\n",
    "userAge[-1] = 25\n",
    "userAge[-2] = 24\n",
    "\n",
    "print (userAge)"
   ]
  },
  {
   "cell_type": "code",
   "execution_count": 7,
   "id": "9745f31d-5be2-4d58-adc5-f873e0b1f171",
   "metadata": {},
   "outputs": [
    {
     "name": "stdout",
     "output_type": "stream",
     "text": [
      "[22, 24]\n",
      "[21, 22, 3, 24]\n",
      "[22, 3, 24, 25]\n"
     ]
    }
   ],
   "source": [
    "# get a sub list consisting of every second number from index 1 to index 5-1 with stepper of 2\n",
    "userAge4 = userAge[1:5:2]\n",
    "\n",
    "print (userAge4)\n",
    "\n",
    "print(userAge[ :4])\n",
    "print(userAge[1:])"
   ]
  },
  {
   "cell_type": "code",
   "execution_count": null,
   "id": "d03fd20a-545e-4527-a17c-b80e18bab097",
   "metadata": {},
   "outputs": [],
   "source": []
  }
 ],
 "metadata": {
  "kernelspec": {
   "display_name": "Python 3 (ipykernel)",
   "language": "python",
   "name": "python3"
  },
  "language_info": {
   "codemirror_mode": {
    "name": "ipython",
    "version": 3
   },
   "file_extension": ".py",
   "mimetype": "text/x-python",
   "name": "python",
   "nbconvert_exporter": "python",
   "pygments_lexer": "ipython3",
   "version": "3.9.4"
  }
 },
 "nbformat": 4,
 "nbformat_minor": 5
}
