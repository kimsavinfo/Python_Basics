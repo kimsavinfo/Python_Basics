{
 "cells": [
  {
   "cell_type": "code",
   "execution_count": 2,
   "id": "19dccd19-abcd-49b1-abcd-86817594249d",
   "metadata": {},
   "outputs": [
    {
     "name": "stdout",
     "output_type": "stream",
     "text": [
      "{'Peter': 38, 'John': 51, 'Alex': 13, 'Alvin': 'Not Available'}\n",
      "{'Peter': 38, 'John': 21, 'Alex': 13, 'Alvin': 'Not Available'}\n"
     ]
    }
   ],
   "source": [
    "userNameAndAge = {\"Peter\":38, \"John\":51, \"Alex\":13, \"Alvin\":\"Not Available\"}\n",
    "print(userNameAndAge)\n",
    "\n",
    "userNameAndAge[\"John\"] = 21\n",
    "print(userNameAndAge)"
   ]
  },
  {
   "cell_type": "code",
   "execution_count": 4,
   "id": "1eab607b-76e8-495a-84fa-61b2fcf53336",
   "metadata": {},
   "outputs": [
    {
     "name": "stdout",
     "output_type": "stream",
     "text": [
      "{'Peter': 38, 'John': 21, 'Alex': 13, 'Alvin': 'Not Available', 'Joe': 40}\n"
     ]
    }
   ],
   "source": [
    "# add\n",
    "userNameAndAge[\"Joe\"] = 40\n",
    "print(userNameAndAge)"
   ]
  },
  {
   "cell_type": "code",
   "execution_count": 5,
   "id": "d008854a-ea5e-4b07-859a-1bc536b84c2c",
   "metadata": {},
   "outputs": [
    {
     "name": "stdout",
     "output_type": "stream",
     "text": [
      "{'Peter': 38, 'John': 21, 'Alvin': 'Not Available', 'Joe': 40}\n"
     ]
    }
   ],
   "source": [
    "#remove\n",
    "del userNameAndAge[\"Alex\"]\n",
    "print(userNameAndAge)"
   ]
  },
  {
   "cell_type": "code",
   "execution_count": null,
   "id": "e3575b5a-c5c9-4511-9b92-f6bd8f7aeb65",
   "metadata": {},
   "outputs": [],
   "source": []
  }
 ],
 "metadata": {
  "kernelspec": {
   "display_name": "Python 3 (ipykernel)",
   "language": "python",
   "name": "python3"
  },
  "language_info": {
   "codemirror_mode": {
    "name": "ipython",
    "version": 3
   },
   "file_extension": ".py",
   "mimetype": "text/x-python",
   "name": "python",
   "nbconvert_exporter": "python",
   "pygments_lexer": "ipython3",
   "version": "3.9.4"
  }
 },
 "nbformat": 4,
 "nbformat_minor": 5
}
