{
 "cells": [
  {
   "cell_type": "code",
   "execution_count": 1,
   "id": "bb5eba6f-e1ab-422c-9cd8-127be368affc",
   "metadata": {},
   "outputs": [
    {
     "name": "stdout",
     "output_type": "stream",
     "text": [
      "Dec\n"
     ]
    }
   ],
   "source": [
    "monthsOfYear = (\"Jan\", \"Feb\", \"Mar\", \"Apr\", \"May\", \"Jun\", \"Jul\", \"Aug\", \"Sep\", \"Oct\", \"Nov\", \"Dec\")\n",
    "\n",
    "print(monthsOfYear[-1])\n",
    "print(monthsOfYear[-3])"
   ]
  },
  {
   "cell_type": "code",
   "execution_count": null,
   "id": "51b02139-9cc6-4683-8527-44452d951b28",
   "metadata": {},
   "outputs": [],
   "source": []
  }
 ],
 "metadata": {
  "kernelspec": {
   "display_name": "Python 3 (ipykernel)",
   "language": "python",
   "name": "python3"
  },
  "language_info": {
   "codemirror_mode": {
    "name": "ipython",
    "version": 3
   },
   "file_extension": ".py",
   "mimetype": "text/x-python",
   "name": "python",
   "nbconvert_exporter": "python",
   "pygments_lexer": "ipython3",
   "version": "3.9.4"
  }
 },
 "nbformat": 4,
 "nbformat_minor": 5
}
