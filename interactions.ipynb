{
 "cells": [
  {
   "cell_type": "code",
   "execution_count": 2,
   "id": "d3ef9118-5aae-4da6-9547-bd9307a53b61",
   "metadata": {},
   "outputs": [
    {
     "name": "stdin",
     "output_type": "stream",
     "text": [
      "Please enter your name:  toto\n",
      "What about your age:  21\n"
     ]
    },
    {
     "name": "stdout",
     "output_type": "stream",
     "text": [
      "Hello World, my name is toto and I am 21 years old.\n"
     ]
    }
   ],
   "source": [
    "myName = input(\"Please enter your name: \")\n",
    "myAge = input(\"What about your age: \")\n",
    "\n",
    "print (\"Hello World, my name is\", myName, \"and I am\", myAge, \"years old.\")"
   ]
  },
  {
   "cell_type": "code",
   "execution_count": 4,
   "id": "6f278b7c-22ee-4acd-9e66-a030f3a06f6b",
   "metadata": {},
   "outputs": [
    {
     "name": "stdout",
     "output_type": "stream",
     "text": [
      "Hello World.\n",
      "My name is James and\n",
      "I am 20 years old.\n"
     ]
    }
   ],
   "source": [
    "print ('''Hello World.\n",
    "My name is James and\n",
    "I am 20 years old.''')"
   ]
  },
  {
   "cell_type": "code",
   "execution_count": 6,
   "id": "777a83ed-122c-4fab-85cf-25cabee124e2",
   "metadata": {},
   "outputs": [
    {
     "name": "stdout",
     "output_type": "stream",
     "text": [
      "Hello\n",
      "World\n",
      "I am 5'9\" tall\n"
     ]
    }
   ],
   "source": [
    "print ('Hello\\nWorld')\n",
    "print (\"I am 5'9\\\" tall\")"
   ]
  }
 ],
 "metadata": {
  "kernelspec": {
   "display_name": "Python 3 (ipykernel)",
   "language": "python",
   "name": "python3"
  },
  "language_info": {
   "codemirror_mode": {
    "name": "ipython",
    "version": 3
   },
   "file_extension": ".py",
   "mimetype": "text/x-python",
   "name": "python",
   "nbconvert_exporter": "python",
   "pygments_lexer": "ipython3",
   "version": "3.9.4"
  }
 },
 "nbformat": 4,
 "nbformat_minor": 5
}
