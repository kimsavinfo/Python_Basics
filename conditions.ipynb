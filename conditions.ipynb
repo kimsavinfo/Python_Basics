{
 "cells": [
  {
   "cell_type": "code",
   "execution_count": 3,
   "id": "e1a2c490-4eaf-4465-bc62-ca92b13a0f1a",
   "metadata": {},
   "outputs": [
    {
     "name": "stdin",
     "output_type": "stream",
     "text": [
      "Enter 1 or 2:  1\n"
     ]
    },
    {
     "name": "stdout",
     "output_type": "stream",
     "text": [
      "Hello World\n",
      "How are you?\n"
     ]
    }
   ],
   "source": [
    "userInput = input('Enter 1 or 2: ')\n",
    "\n",
    "if userInput == \"1\":\n",
    "    print (\"Hello World\")\n",
    "    print (\"How are you?\")\n",
    "elif userInput == \"2\":\n",
    "    print (\"Python Rocks!\")\n",
    "    print (\"I love Python\")\n",
    "else:\n",
    "    print (\"You did not enter a valid number\")"
   ]
  },
  {
   "cell_type": "code",
   "execution_count": 4,
   "id": "a2e2399b-1dd6-4faf-bbde-a7ee88b3dc57",
   "metadata": {},
   "outputs": [
    {
     "name": "stdout",
     "output_type": "stream",
     "text": [
      "cats\n",
      "dogs\n",
      "rabbits\n",
      "hamsters\n"
     ]
    }
   ],
   "source": [
    "pets = ['cats', 'dogs', 'rabbits', 'hamsters']\n",
    "\n",
    "for myPets in pets:\n",
    "    print (myPets)"
   ]
  },
  {
   "cell_type": "code",
   "execution_count": 8,
   "id": "20dfccaa-5ed4-4f23-bae5-a79468d49a79",
   "metadata": {},
   "outputs": [
    {
     "name": "stdout",
     "output_type": "stream",
     "text": [
      "H\n",
      "e\n",
      "l\n",
      "l\n",
      "o\n"
     ]
    }
   ],
   "source": [
    "message = 'Hello'\n",
    "\n",
    "for iLetter in message:\n",
    "    print (iLetter)"
   ]
  },
  {
   "cell_type": "code",
   "execution_count": 9,
   "id": "c6f2a453-c30a-4020-af28-e6c251f1e3f6",
   "metadata": {},
   "outputs": [
    {
     "name": "stdout",
     "output_type": "stream",
     "text": [
      "0\n",
      "1\n",
      "2\n",
      "3\n",
      "4\n"
     ]
    }
   ],
   "source": [
    "for i in range(5):\n",
    "    print (i)"
   ]
  },
  {
   "cell_type": "code",
   "execution_count": 11,
   "id": "5e2a8541-ad49-4a93-ba0f-ce37a4dcb927",
   "metadata": {},
   "outputs": [
    {
     "name": "stdout",
     "output_type": "stream",
     "text": [
      "Counter =  5\n",
      "Counter =  4\n",
      "Counter =  3\n",
      "Counter =  2\n",
      "Counter =  1\n"
     ]
    }
   ],
   "source": [
    "counter = 5\n",
    "while counter > 0:\n",
    "    print (\"Counter = \", counter)\n",
    "    counter = counter - 1"
   ]
  },
  {
   "cell_type": "code",
   "execution_count": 12,
   "id": "8e9a8d52-b30d-43f1-bd4d-fa90a557f270",
   "metadata": {},
   "outputs": [
    {
     "name": "stdout",
     "output_type": "stream",
     "text": [
      "An error occurred\n"
     ]
    }
   ],
   "source": [
    "try:\n",
    "    answer = 12/0\n",
    "    print (answer)\n",
    "except:\n",
    "    print (\"An error occurred\")"
   ]
  },
  {
   "cell_type": "code",
   "execution_count": 13,
   "id": "c4ee5a55-4daf-4398-9b1b-b6c4dae740c7",
   "metadata": {},
   "outputs": [
    {
     "name": "stdin",
     "output_type": "stream",
     "text": [
      "Please enter a number:  1\n",
      "Please enter another number:  4\n"
     ]
    },
    {
     "name": "stdout",
     "output_type": "stream",
     "text": [
      "The answer is  0.25\n",
      "Unknown error:  [Errno 2] No such file or directory: 'missing.txt'\n"
     ]
    }
   ],
   "source": [
    "try:\n",
    "    userInput1 = int(input(\"Please enter a number: \"))\n",
    "    userInput2 = int(input(\"Please enter another number: \"))\n",
    "    answer = userInput1/userInput2\n",
    "    print (\"The answer is \", answer)\n",
    "    myFile = open(\"missing.txt\", 'r')\n",
    "except ValueError:\n",
    "    print (\"Error: You did not enter a number\")\n",
    "except ZeroDivisionError:\n",
    "    print (\"Error: Cannot divide by zero\")\n",
    "except Exception as e:\n",
    "    print (\"Unknown error: \", e)"
   ]
  },
  {
   "cell_type": "code",
   "execution_count": null,
   "id": "d86ba605-8789-45d4-98ed-df32f3a4f67f",
   "metadata": {},
   "outputs": [],
   "source": []
  }
 ],
 "metadata": {
  "kernelspec": {
   "display_name": "Python 3 (ipykernel)",
   "language": "python",
   "name": "python3"
  },
  "language_info": {
   "codemirror_mode": {
    "name": "ipython",
    "version": 3
   },
   "file_extension": ".py",
   "mimetype": "text/x-python",
   "name": "python",
   "nbconvert_exporter": "python",
   "pygments_lexer": "ipython3",
   "version": "3.9.4"
  }
 },
 "nbformat": 4,
 "nbformat_minor": 5
}
